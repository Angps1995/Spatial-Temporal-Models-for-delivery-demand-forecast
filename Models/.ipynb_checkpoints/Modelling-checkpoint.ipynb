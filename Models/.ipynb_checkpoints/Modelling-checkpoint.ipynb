{
 "cells": [
  {
   "cell_type": "code",
   "execution_count": 4,
   "metadata": {},
   "outputs": [],
   "source": [
    "import pandas as pd\n",
    "import numpy as np\n",
    "import matplotlib.pyplot as plt\n",
    "from model_utils import *\n",
    "from stats_tests import *"
   ]
  },
  {
   "cell_type": "code",
   "execution_count": null,
   "metadata": {},
   "outputs": [],
   "source": [
    "data_path = \"/home/angps/Documents/Thesis/Data/\""
   ]
  },
  {
   "cell_type": "code",
   "execution_count": null,
   "metadata": {},
   "outputs": [],
   "source": [
    "df = pd.read_csv(data_path + 'location_map.csv')\n",
    "df.head()"
   ]
  },
  {
   "cell_type": "code",
   "execution_count": 2,
   "metadata": {},
   "outputs": [
    {
     "ename": "NameError",
     "evalue": "name 'df' is not defined",
     "output_type": "error",
     "traceback": [
      "\u001b[0;31m---------------------------------------------------------------------------\u001b[0m",
      "\u001b[0;31mNameError\u001b[0m                                 Traceback (most recent call last)",
      "\u001b[0;32m<ipython-input-2-a586049ef46a>\u001b[0m in \u001b[0;36m<module>\u001b[0;34m\u001b[0m\n\u001b[1;32m      1\u001b[0m \u001b[0;32mfrom\u001b[0m \u001b[0mcollections\u001b[0m \u001b[0;32mimport\u001b[0m \u001b[0mdefaultdict\u001b[0m\u001b[0;34m\u001b[0m\u001b[0;34m\u001b[0m\u001b[0m\n\u001b[0;32m----> 2\u001b[0;31m \u001b[0ml\u001b[0m \u001b[0;34m=\u001b[0m \u001b[0mdf\u001b[0m\u001b[0;34m[\u001b[0m\u001b[0;34m'Period'\u001b[0m\u001b[0;34m]\u001b[0m\u001b[0;34m.\u001b[0m\u001b[0mmin\u001b[0m\u001b[0;34m(\u001b[0m\u001b[0;34m)\u001b[0m\u001b[0;34m\u001b[0m\u001b[0;34m\u001b[0m\u001b[0m\n\u001b[0m\u001b[1;32m      3\u001b[0m \u001b[0mh\u001b[0m \u001b[0;34m=\u001b[0m \u001b[0mdf\u001b[0m\u001b[0;34m[\u001b[0m\u001b[0;34m'Period'\u001b[0m\u001b[0;34m]\u001b[0m\u001b[0;34m.\u001b[0m\u001b[0mmax\u001b[0m\u001b[0;34m(\u001b[0m\u001b[0;34m)\u001b[0m\u001b[0;34m\u001b[0m\u001b[0;34m\u001b[0m\u001b[0m\n\u001b[1;32m      4\u001b[0m \u001b[0mdic\u001b[0m \u001b[0;34m=\u001b[0m \u001b[0mdict\u001b[0m\u001b[0;34m(\u001b[0m\u001b[0;34m)\u001b[0m\u001b[0;34m\u001b[0m\u001b[0;34m\u001b[0m\u001b[0m\n\u001b[1;32m      5\u001b[0m \u001b[0mct\u001b[0m \u001b[0;34m=\u001b[0m \u001b[0;36m0\u001b[0m\u001b[0;34m\u001b[0m\u001b[0;34m\u001b[0m\u001b[0m\n",
      "\u001b[0;31mNameError\u001b[0m: name 'df' is not defined"
     ]
    }
   ],
   "source": [
    "from collections import defaultdict\n",
    "l = df['Period'].min()\n",
    "h = df['Period'].max()\n",
    "dic = dict()\n",
    "ct = 0\n",
    "for g in df['geohash6'].unique():\n",
    "    temp = df.groupby([\"geohash6\",\"Period\"])['demand'].mean()[g].to_dict()\n",
    "    temp = defaultdict(int, temp)\n",
    "    dic[g] = np.array([temp[i] for i in range(h+1)])\n",
    "    ct += 1\n",
    "    if ct % 100 == 0:\n",
    "        print(ct)"
   ]
  },
  {
   "cell_type": "code",
   "execution_count": null,
   "metadata": {},
   "outputs": [],
   "source": [
    "final_df = pd.DataFrame.from_dict(dic, orient='index')\n",
    "final_df = final_df.reset_index()\n",
    "final_df = final_df.rename(columns={\"index\":\"loc\"})\n",
    "final_df.head()"
   ]
  },
  {
   "cell_type": "code",
   "execution_count": null,
   "metadata": {},
   "outputs": [],
   "source": [
    "final_df.shape"
   ]
  },
  {
   "cell_type": "code",
   "execution_count": null,
   "metadata": {},
   "outputs": [],
   "source": [
    "# final_df.to_csv(data_path + \"Sample/final_df.csv\", index=False)"
   ]
  },
  {
   "cell_type": "markdown",
   "metadata": {},
   "source": [
    "**Visualisation**"
   ]
  },
  {
   "cell_type": "code",
   "execution_count": null,
   "metadata": {},
   "outputs": [],
   "source": [
    "# import geohash2\n",
    "# final_df['latitude'] = final_df['loc'].apply(lambda x: float(geohash2.decode_exactly(x)[0]))\n",
    "# final_df['longitude'] = final_df['loc'].apply(lambda x: float(geohash2.decode_exactly(x)[1]))\n",
    "# final_df.to_csv(data_path + \"Sample/final_df.csv\", index=False)"
   ]
  },
  {
   "cell_type": "code",
   "execution_count": null,
   "metadata": {},
   "outputs": [],
   "source": [
    "retail_data = pd.read_csv(data_path + 'retail_data.csv')\n",
    "retail_data.head()"
   ]
  },
  {
   "cell_type": "code",
   "execution_count": null,
   "metadata": {},
   "outputs": [],
   "source": [
    "df = pd.read_csv(data_path + '/Sample/final_df.csv')\n",
    "df.head()"
   ]
  },
  {
   "cell_type": "code",
   "execution_count": null,
   "metadata": {},
   "outputs": [],
   "source": []
  },
  {
   "cell_type": "markdown",
   "metadata": {},
   "source": [
    "# **Clustering**"
   ]
  },
  {
   "cell_type": "markdown",
   "metadata": {},
   "source": [
    "**Cluster by location**"
   ]
  },
  {
   "cell_type": "code",
   "execution_count": null,
   "metadata": {},
   "outputs": [],
   "source": [
    "plt_elbow_for_clustering(df, col_names=['latitude','longitude'])"
   ]
  },
  {
   "cell_type": "code",
   "execution_count": null,
   "metadata": {},
   "outputs": [],
   "source": [
    "labels = cluster_geog(df, col_names=['latitude','longitude'], n_clusters = 5)"
   ]
  },
  {
   "cell_type": "code",
   "execution_count": null,
   "metadata": {},
   "outputs": [],
   "source": [
    "plt_geog_cluster(df, col_names=['latitude','longitude'], labels=labels, map_img=plt.imread(data_path + 'images/sg_map.png'))"
   ]
  },
  {
   "cell_type": "code",
   "execution_count": null,
   "metadata": {},
   "outputs": [],
   "source": [
    "plt_elbow_for_clustering(retail_data, col_names=['latitude','longitude'])"
   ]
  },
  {
   "cell_type": "code",
   "execution_count": null,
   "metadata": {},
   "outputs": [],
   "source": [
    "labels = cluster_geog(retail_data, col_names=['latitude','longitude'], n_clusters = 5)"
   ]
  },
  {
   "cell_type": "code",
   "execution_count": null,
   "metadata": {},
   "outputs": [],
   "source": [
    "plt_geog_cluster(retail_data, col_names=['latitude','longitude'], labels=labels, map_img=plt.imread(data_path + 'images/sg_map.png'))"
   ]
  },
  {
   "cell_type": "markdown",
   "metadata": {},
   "source": [
    "**Cluster by time series**"
   ]
  },
  {
   "cell_type": "code",
   "execution_count": null,
   "metadata": {},
   "outputs": [],
   "source": [
    "#Cluster by correlation\n",
    "ts_df = df.iloc[:,1:-2]\n",
    "grps = cluster_ts(ts_df, n_clusters=6, dist_metric='correlation')\n",
    "\n",
    "#Cluster by DTW\n",
    "\n"
   ]
  },
  {
   "cell_type": "code",
   "execution_count": null,
   "metadata": {},
   "outputs": [],
   "source": [
    "cluster_loc = get_cluster_loc(grps)"
   ]
  },
  {
   "cell_type": "markdown",
   "metadata": {},
   "source": [
    "**Combine cluster groups**"
   ]
  },
  {
   "cell_type": "code",
   "execution_count": null,
   "metadata": {},
   "outputs": [],
   "source": [
    "#Create testing df for easy testing\n",
    "sample_df = pd.read_csv(data_path + '/Sample/sample.csv')\n",
    "sample_df.head()"
   ]
  },
  {
   "cell_type": "code",
   "execution_count": null,
   "metadata": {},
   "outputs": [],
   "source": [
    "sample_df['cluster'] = ['Cluster_0', 'Cluster_1', 'Cluster_2','Cluster_1','Cluster_0']\n",
    "sample_df"
   ]
  },
  {
   "cell_type": "code",
   "execution_count": null,
   "metadata": {},
   "outputs": [],
   "source": [
    "sample_cluster_loc = {0:[0,4], 1:[1,3], 2:[2]}\n",
    "sample_pred = pd.DataFrame.from_dict({\"Cluster_0\":[10,20], \"Cluster_1\":[100, 50], \"Cluster_2\":[30,10]}, orient=\"index\")\n",
    "sample_pred"
   ]
  },
  {
   "cell_type": "code",
   "execution_count": null,
   "metadata": {},
   "outputs": [],
   "source": [
    "t = sample_df.groupby(\"cluster\").sum()\n",
    "#t.loc['Cluster_1','1']\n",
    "t"
   ]
  },
  {
   "cell_type": "code",
   "execution_count": null,
   "metadata": {},
   "outputs": [],
   "source": [
    "form_cluster_grp(sample_df, [0,1,2,1,0])"
   ]
  },
  {
   "cell_type": "code",
   "execution_count": 3,
   "metadata": {},
   "outputs": [
    {
     "ename": "NameError",
     "evalue": "name 'form_cluster_grp' is not defined",
     "output_type": "error",
     "traceback": [
      "\u001b[0;31m---------------------------------------------------------------------------\u001b[0m",
      "\u001b[0;31mNameError\u001b[0m                                 Traceback (most recent call last)",
      "\u001b[0;32m<ipython-input-3-4524df6f1447>\u001b[0m in \u001b[0;36m<module>\u001b[0;34m\u001b[0m\n\u001b[0;32m----> 1\u001b[0;31m \u001b[0mts_cluster_df\u001b[0m \u001b[0;34m=\u001b[0m \u001b[0mform_cluster_grp\u001b[0m\u001b[0;34m(\u001b[0m\u001b[0mts_df\u001b[0m\u001b[0;34m,\u001b[0m \u001b[0mgrps\u001b[0m\u001b[0;34m)\u001b[0m\u001b[0;34m\u001b[0m\u001b[0;34m\u001b[0m\u001b[0m\n\u001b[0m\u001b[1;32m      2\u001b[0m \u001b[0mts_cluster_df\u001b[0m\u001b[0;34m\u001b[0m\u001b[0;34m\u001b[0m\u001b[0m\n",
      "\u001b[0;31mNameError\u001b[0m: name 'form_cluster_grp' is not defined"
     ]
    }
   ],
   "source": [
    "ts_cluster_df = form_cluster_grp(ts_df, grps)\n",
    "ts_cluster_df"
   ]
  },
  {
   "cell_type": "markdown",
   "metadata": {},
   "source": [
    "**Prediction Model**"
   ]
  },
  {
   "cell_type": "code",
   "execution_count": null,
   "metadata": {},
   "outputs": [],
   "source": []
  },
  {
   "cell_type": "markdown",
   "metadata": {},
   "source": [
    "**Split training-test**"
   ]
  },
  {
   "cell_type": "code",
   "execution_count": null,
   "metadata": {},
   "outputs": [],
   "source": []
  },
  {
   "cell_type": "code",
   "execution_count": null,
   "metadata": {},
   "outputs": [],
   "source": [
    "from statsmodels.tsa.api import VAR"
   ]
  },
  {
   "cell_type": "code",
   "execution_count": null,
   "metadata": {},
   "outputs": [],
   "source": [
    "# requires dataframe to have time as rows and locs/vars in columns\n",
    "model = VAR(ts_cluster_df.T)"
   ]
  },
  {
   "cell_type": "code",
   "execution_count": null,
   "metadata": {},
   "outputs": [],
   "source": [
    "model.select_order().selected_orders\n"
   ]
  },
  {
   "cell_type": "code",
   "execution_count": null,
   "metadata": {},
   "outputs": [],
   "source": [
    "results = model.fit(14)"
   ]
  },
  {
   "cell_type": "code",
   "execution_count": null,
   "metadata": {},
   "outputs": [],
   "source": [
    "results.summary()"
   ]
  },
  {
   "cell_type": "code",
   "execution_count": null,
   "metadata": {},
   "outputs": [],
   "source": [
    "results.plot()"
   ]
  },
  {
   "cell_type": "code",
   "execution_count": null,
   "metadata": {},
   "outputs": [],
   "source": [
    "results.plot_acorr()"
   ]
  },
  {
   "cell_type": "code",
   "execution_count": null,
   "metadata": {},
   "outputs": [],
   "source": [
    "lag_order = results.k_ar"
   ]
  },
  {
   "cell_type": "code",
   "execution_count": null,
   "metadata": {},
   "outputs": [],
   "source": [
    "results.forecast(ts_cluster_df.T.values[-lag_order:], 5)"
   ]
  },
  {
   "cell_type": "code",
   "execution_count": null,
   "metadata": {},
   "outputs": [],
   "source": [
    "results.plot_forecast(10)"
   ]
  },
  {
   "cell_type": "code",
   "execution_count": null,
   "metadata": {},
   "outputs": [],
   "source": [
    "irf = results.irf(14)\n",
    "plt.figure(figsize = (24,24))\n",
    "irf.plot(orth=False)"
   ]
  },
  {
   "cell_type": "code",
   "execution_count": null,
   "metadata": {},
   "outputs": [],
   "source": [
    "irf.plot(impulse='Cluster_0')"
   ]
  },
  {
   "cell_type": "code",
   "execution_count": null,
   "metadata": {},
   "outputs": [],
   "source": [
    "irf.plot_cum_effects(orth=False)"
   ]
  },
  {
   "cell_type": "code",
   "execution_count": null,
   "metadata": {},
   "outputs": [],
   "source": [
    "fevd = results.fevd(5)\n",
    "fevd.summary()"
   ]
  },
  {
   "cell_type": "code",
   "execution_count": null,
   "metadata": {},
   "outputs": [],
   "source": [
    "results.fevd(20).plot()"
   ]
  },
  {
   "cell_type": "code",
   "execution_count": null,
   "metadata": {},
   "outputs": [],
   "source": []
  },
  {
   "cell_type": "code",
   "execution_count": null,
   "metadata": {},
   "outputs": [],
   "source": []
  },
  {
   "cell_type": "code",
   "execution_count": null,
   "metadata": {},
   "outputs": [],
   "source": []
  },
  {
   "cell_type": "code",
   "execution_count": null,
   "metadata": {},
   "outputs": [],
   "source": []
  },
  {
   "cell_type": "code",
   "execution_count": null,
   "metadata": {},
   "outputs": [],
   "source": [
    "results.test_normality().summary()"
   ]
  },
  {
   "cell_type": "markdown",
   "metadata": {},
   "source": [
    "**Assign total demand of each cluster to individual locations**"
   ]
  },
  {
   "cell_type": "code",
   "execution_count": 26,
   "metadata": {},
   "outputs": [
    {
     "data": {
      "text/html": [
       "<div>\n",
       "<style scoped>\n",
       "    .dataframe tbody tr th:only-of-type {\n",
       "        vertical-align: middle;\n",
       "    }\n",
       "\n",
       "    .dataframe tbody tr th {\n",
       "        vertical-align: top;\n",
       "    }\n",
       "\n",
       "    .dataframe thead th {\n",
       "        text-align: right;\n",
       "    }\n",
       "</style>\n",
       "<table border=\"1\" class=\"dataframe\">\n",
       "  <thead>\n",
       "    <tr style=\"text-align: right;\">\n",
       "      <th></th>\n",
       "      <th>0</th>\n",
       "      <th>1</th>\n",
       "      <th>2</th>\n",
       "      <th>3</th>\n",
       "      <th>4</th>\n",
       "      <th>5</th>\n",
       "      <th>6</th>\n",
       "      <th>7</th>\n",
       "      <th>8</th>\n",
       "      <th>9</th>\n",
       "      <th>...</th>\n",
       "      <th>5846</th>\n",
       "      <th>5847</th>\n",
       "      <th>5848</th>\n",
       "      <th>5849</th>\n",
       "      <th>5850</th>\n",
       "      <th>5851</th>\n",
       "      <th>5852</th>\n",
       "      <th>5853</th>\n",
       "      <th>5854</th>\n",
       "      <th>5855</th>\n",
       "    </tr>\n",
       "    <tr>\n",
       "      <th>cluster</th>\n",
       "      <th></th>\n",
       "      <th></th>\n",
       "      <th></th>\n",
       "      <th></th>\n",
       "      <th></th>\n",
       "      <th></th>\n",
       "      <th></th>\n",
       "      <th></th>\n",
       "      <th></th>\n",
       "      <th></th>\n",
       "      <th></th>\n",
       "      <th></th>\n",
       "      <th></th>\n",
       "      <th></th>\n",
       "      <th></th>\n",
       "      <th></th>\n",
       "      <th></th>\n",
       "      <th></th>\n",
       "      <th></th>\n",
       "      <th></th>\n",
       "      <th></th>\n",
       "    </tr>\n",
       "  </thead>\n",
       "  <tbody>\n",
       "    <tr>\n",
       "      <th>Cluster_0</th>\n",
       "      <td>30.018154</td>\n",
       "      <td>33.148272</td>\n",
       "      <td>35.997936</td>\n",
       "      <td>38.671355</td>\n",
       "      <td>43.986918</td>\n",
       "      <td>49.033977</td>\n",
       "      <td>55.672367</td>\n",
       "      <td>58.417889</td>\n",
       "      <td>61.826454</td>\n",
       "      <td>66.41204</td>\n",
       "      <td>...</td>\n",
       "      <td>15.182077</td>\n",
       "      <td>14.876712</td>\n",
       "      <td>16.053734</td>\n",
       "      <td>17.194969</td>\n",
       "      <td>17.272335</td>\n",
       "      <td>17.687096</td>\n",
       "      <td>20.729729</td>\n",
       "      <td>23.798470</td>\n",
       "      <td>28.051767</td>\n",
       "      <td>30.447158</td>\n",
       "    </tr>\n",
       "    <tr>\n",
       "      <th>Cluster_1</th>\n",
       "      <td>0.208278</td>\n",
       "      <td>0.235666</td>\n",
       "      <td>0.193818</td>\n",
       "      <td>0.212962</td>\n",
       "      <td>0.272393</td>\n",
       "      <td>0.244445</td>\n",
       "      <td>0.257339</td>\n",
       "      <td>0.183418</td>\n",
       "      <td>0.197991</td>\n",
       "      <td>0.30977</td>\n",
       "      <td>...</td>\n",
       "      <td>1.122574</td>\n",
       "      <td>0.648463</td>\n",
       "      <td>0.616607</td>\n",
       "      <td>0.462037</td>\n",
       "      <td>0.310822</td>\n",
       "      <td>0.256371</td>\n",
       "      <td>0.258999</td>\n",
       "      <td>0.271552</td>\n",
       "      <td>0.242219</td>\n",
       "      <td>0.302805</td>\n",
       "    </tr>\n",
       "    <tr>\n",
       "      <th>Cluster_2</th>\n",
       "      <td>0.000000</td>\n",
       "      <td>0.000000</td>\n",
       "      <td>0.000000</td>\n",
       "      <td>0.000000</td>\n",
       "      <td>0.000000</td>\n",
       "      <td>0.000000</td>\n",
       "      <td>0.000000</td>\n",
       "      <td>0.000000</td>\n",
       "      <td>0.000000</td>\n",
       "      <td>0.00000</td>\n",
       "      <td>...</td>\n",
       "      <td>0.000000</td>\n",
       "      <td>0.000000</td>\n",
       "      <td>0.000000</td>\n",
       "      <td>0.000000</td>\n",
       "      <td>0.000000</td>\n",
       "      <td>0.000000</td>\n",
       "      <td>0.000000</td>\n",
       "      <td>0.000000</td>\n",
       "      <td>0.000000</td>\n",
       "      <td>0.000000</td>\n",
       "    </tr>\n",
       "    <tr>\n",
       "      <th>Cluster_3</th>\n",
       "      <td>0.000000</td>\n",
       "      <td>0.000000</td>\n",
       "      <td>0.000000</td>\n",
       "      <td>0.000000</td>\n",
       "      <td>0.000000</td>\n",
       "      <td>0.000000</td>\n",
       "      <td>0.000000</td>\n",
       "      <td>0.000000</td>\n",
       "      <td>0.000000</td>\n",
       "      <td>0.00000</td>\n",
       "      <td>...</td>\n",
       "      <td>0.000000</td>\n",
       "      <td>0.000000</td>\n",
       "      <td>0.000000</td>\n",
       "      <td>0.000000</td>\n",
       "      <td>0.000000</td>\n",
       "      <td>0.000000</td>\n",
       "      <td>0.000000</td>\n",
       "      <td>0.000000</td>\n",
       "      <td>0.000000</td>\n",
       "      <td>0.000000</td>\n",
       "    </tr>\n",
       "    <tr>\n",
       "      <th>Cluster_4</th>\n",
       "      <td>0.000000</td>\n",
       "      <td>0.000000</td>\n",
       "      <td>0.000000</td>\n",
       "      <td>0.000000</td>\n",
       "      <td>0.000000</td>\n",
       "      <td>0.000000</td>\n",
       "      <td>0.000000</td>\n",
       "      <td>0.000000</td>\n",
       "      <td>0.000000</td>\n",
       "      <td>0.00000</td>\n",
       "      <td>...</td>\n",
       "      <td>0.000000</td>\n",
       "      <td>0.000000</td>\n",
       "      <td>0.000000</td>\n",
       "      <td>0.000000</td>\n",
       "      <td>0.000000</td>\n",
       "      <td>0.000000</td>\n",
       "      <td>0.000000</td>\n",
       "      <td>0.000000</td>\n",
       "      <td>0.000000</td>\n",
       "      <td>0.000000</td>\n",
       "    </tr>\n",
       "    <tr>\n",
       "      <th>Cluster_5</th>\n",
       "      <td>0.000000</td>\n",
       "      <td>0.000000</td>\n",
       "      <td>0.000000</td>\n",
       "      <td>0.000000</td>\n",
       "      <td>0.000000</td>\n",
       "      <td>0.000000</td>\n",
       "      <td>0.000000</td>\n",
       "      <td>0.000000</td>\n",
       "      <td>0.000000</td>\n",
       "      <td>0.00000</td>\n",
       "      <td>...</td>\n",
       "      <td>0.000000</td>\n",
       "      <td>0.000000</td>\n",
       "      <td>0.000000</td>\n",
       "      <td>0.000000</td>\n",
       "      <td>0.000000</td>\n",
       "      <td>0.000000</td>\n",
       "      <td>0.000000</td>\n",
       "      <td>0.000000</td>\n",
       "      <td>0.000000</td>\n",
       "      <td>0.000000</td>\n",
       "    </tr>\n",
       "  </tbody>\n",
       "</table>\n",
       "<p>6 rows × 5856 columns</p>\n",
       "</div>"
      ],
      "text/plain": [
       "                   0          1          2          3          4          5  \\\n",
       "cluster                                                                       \n",
       "Cluster_0  30.018154  33.148272  35.997936  38.671355  43.986918  49.033977   \n",
       "Cluster_1   0.208278   0.235666   0.193818   0.212962   0.272393   0.244445   \n",
       "Cluster_2   0.000000   0.000000   0.000000   0.000000   0.000000   0.000000   \n",
       "Cluster_3   0.000000   0.000000   0.000000   0.000000   0.000000   0.000000   \n",
       "Cluster_4   0.000000   0.000000   0.000000   0.000000   0.000000   0.000000   \n",
       "Cluster_5   0.000000   0.000000   0.000000   0.000000   0.000000   0.000000   \n",
       "\n",
       "                   6          7          8         9  ...       5846  \\\n",
       "cluster                                               ...              \n",
       "Cluster_0  55.672367  58.417889  61.826454  66.41204  ...  15.182077   \n",
       "Cluster_1   0.257339   0.183418   0.197991   0.30977  ...   1.122574   \n",
       "Cluster_2   0.000000   0.000000   0.000000   0.00000  ...   0.000000   \n",
       "Cluster_3   0.000000   0.000000   0.000000   0.00000  ...   0.000000   \n",
       "Cluster_4   0.000000   0.000000   0.000000   0.00000  ...   0.000000   \n",
       "Cluster_5   0.000000   0.000000   0.000000   0.00000  ...   0.000000   \n",
       "\n",
       "                5847       5848       5849       5850       5851       5852  \\\n",
       "cluster                                                                       \n",
       "Cluster_0  14.876712  16.053734  17.194969  17.272335  17.687096  20.729729   \n",
       "Cluster_1   0.648463   0.616607   0.462037   0.310822   0.256371   0.258999   \n",
       "Cluster_2   0.000000   0.000000   0.000000   0.000000   0.000000   0.000000   \n",
       "Cluster_3   0.000000   0.000000   0.000000   0.000000   0.000000   0.000000   \n",
       "Cluster_4   0.000000   0.000000   0.000000   0.000000   0.000000   0.000000   \n",
       "Cluster_5   0.000000   0.000000   0.000000   0.000000   0.000000   0.000000   \n",
       "\n",
       "                5853       5854       5855  \n",
       "cluster                                     \n",
       "Cluster_0  23.798470  28.051767  30.447158  \n",
       "Cluster_1   0.271552   0.242219   0.302805  \n",
       "Cluster_2   0.000000   0.000000   0.000000  \n",
       "Cluster_3   0.000000   0.000000   0.000000  \n",
       "Cluster_4   0.000000   0.000000   0.000000  \n",
       "Cluster_5   0.000000   0.000000   0.000000  \n",
       "\n",
       "[6 rows x 5856 columns]"
      ]
     },
     "execution_count": 26,
     "metadata": {},
     "output_type": "execute_result"
    }
   ],
   "source": [
    "ts_cluster_df"
   ]
  },
  {
   "cell_type": "code",
   "execution_count": 27,
   "metadata": {},
   "outputs": [
    {
     "data": {
      "text/html": [
       "<div>\n",
       "<style scoped>\n",
       "    .dataframe tbody tr th:only-of-type {\n",
       "        vertical-align: middle;\n",
       "    }\n",
       "\n",
       "    .dataframe tbody tr th {\n",
       "        vertical-align: top;\n",
       "    }\n",
       "\n",
       "    .dataframe thead th {\n",
       "        text-align: right;\n",
       "    }\n",
       "</style>\n",
       "<table border=\"1\" class=\"dataframe\">\n",
       "  <thead>\n",
       "    <tr style=\"text-align: right;\">\n",
       "      <th></th>\n",
       "      <th>0</th>\n",
       "      <th>1</th>\n",
       "      <th>2</th>\n",
       "      <th>3</th>\n",
       "      <th>4</th>\n",
       "      <th>5</th>\n",
       "      <th>6</th>\n",
       "      <th>7</th>\n",
       "      <th>8</th>\n",
       "      <th>9</th>\n",
       "      <th>...</th>\n",
       "      <th>5847</th>\n",
       "      <th>5848</th>\n",
       "      <th>5849</th>\n",
       "      <th>5850</th>\n",
       "      <th>5851</th>\n",
       "      <th>5852</th>\n",
       "      <th>5853</th>\n",
       "      <th>5854</th>\n",
       "      <th>5855</th>\n",
       "      <th>cluster</th>\n",
       "    </tr>\n",
       "  </thead>\n",
       "  <tbody>\n",
       "    <tr>\n",
       "      <th>0</th>\n",
       "      <td>0.054858</td>\n",
       "      <td>0.086209</td>\n",
       "      <td>0.050739</td>\n",
       "      <td>0.075174</td>\n",
       "      <td>0.062867</td>\n",
       "      <td>0.056765</td>\n",
       "      <td>0.069417</td>\n",
       "      <td>0.079853</td>\n",
       "      <td>0.119192</td>\n",
       "      <td>0.115955</td>\n",
       "      <td>...</td>\n",
       "      <td>0.027943</td>\n",
       "      <td>0.029310</td>\n",
       "      <td>0.033446</td>\n",
       "      <td>0.018348</td>\n",
       "      <td>0.045894</td>\n",
       "      <td>0.068427</td>\n",
       "      <td>0.034809</td>\n",
       "      <td>0.059814</td>\n",
       "      <td>0.045901</td>\n",
       "      <td>Cluster_0</td>\n",
       "    </tr>\n",
       "    <tr>\n",
       "      <th>1</th>\n",
       "      <td>0.000000</td>\n",
       "      <td>0.005546</td>\n",
       "      <td>0.013577</td>\n",
       "      <td>0.004720</td>\n",
       "      <td>0.004425</td>\n",
       "      <td>0.000303</td>\n",
       "      <td>0.013996</td>\n",
       "      <td>0.004471</td>\n",
       "      <td>0.014096</td>\n",
       "      <td>0.005484</td>\n",
       "      <td>...</td>\n",
       "      <td>0.004884</td>\n",
       "      <td>0.000000</td>\n",
       "      <td>0.000000</td>\n",
       "      <td>0.001958</td>\n",
       "      <td>0.000778</td>\n",
       "      <td>0.000000</td>\n",
       "      <td>0.000000</td>\n",
       "      <td>0.000000</td>\n",
       "      <td>0.000000</td>\n",
       "      <td>Cluster_0</td>\n",
       "    </tr>\n",
       "    <tr>\n",
       "      <th>2</th>\n",
       "      <td>0.022881</td>\n",
       "      <td>0.019733</td>\n",
       "      <td>0.023053</td>\n",
       "      <td>0.029018</td>\n",
       "      <td>0.073814</td>\n",
       "      <td>0.066341</td>\n",
       "      <td>0.061355</td>\n",
       "      <td>0.094834</td>\n",
       "      <td>0.086832</td>\n",
       "      <td>0.071593</td>\n",
       "      <td>...</td>\n",
       "      <td>0.011049</td>\n",
       "      <td>0.015564</td>\n",
       "      <td>0.000000</td>\n",
       "      <td>0.013121</td>\n",
       "      <td>0.000000</td>\n",
       "      <td>0.005243</td>\n",
       "      <td>0.014848</td>\n",
       "      <td>0.007184</td>\n",
       "      <td>0.035813</td>\n",
       "      <td>Cluster_0</td>\n",
       "    </tr>\n",
       "    <tr>\n",
       "      <th>3</th>\n",
       "      <td>0.012395</td>\n",
       "      <td>0.048042</td>\n",
       "      <td>0.078544</td>\n",
       "      <td>0.074393</td>\n",
       "      <td>0.117350</td>\n",
       "      <td>0.092151</td>\n",
       "      <td>0.061261</td>\n",
       "      <td>0.083871</td>\n",
       "      <td>0.083997</td>\n",
       "      <td>0.074020</td>\n",
       "      <td>...</td>\n",
       "      <td>0.000000</td>\n",
       "      <td>0.000000</td>\n",
       "      <td>0.000000</td>\n",
       "      <td>0.000000</td>\n",
       "      <td>0.002199</td>\n",
       "      <td>0.030536</td>\n",
       "      <td>0.038095</td>\n",
       "      <td>0.058625</td>\n",
       "      <td>0.021198</td>\n",
       "      <td>Cluster_0</td>\n",
       "    </tr>\n",
       "    <tr>\n",
       "      <th>4</th>\n",
       "      <td>0.000000</td>\n",
       "      <td>0.000000</td>\n",
       "      <td>0.000000</td>\n",
       "      <td>0.011483</td>\n",
       "      <td>0.003363</td>\n",
       "      <td>0.015389</td>\n",
       "      <td>0.016686</td>\n",
       "      <td>0.017399</td>\n",
       "      <td>0.004562</td>\n",
       "      <td>0.025001</td>\n",
       "      <td>...</td>\n",
       "      <td>0.015546</td>\n",
       "      <td>0.000000</td>\n",
       "      <td>0.002288</td>\n",
       "      <td>0.011023</td>\n",
       "      <td>0.008362</td>\n",
       "      <td>0.000000</td>\n",
       "      <td>0.001531</td>\n",
       "      <td>0.000000</td>\n",
       "      <td>0.000000</td>\n",
       "      <td>Cluster_0</td>\n",
       "    </tr>\n",
       "  </tbody>\n",
       "</table>\n",
       "<p>5 rows × 5857 columns</p>\n",
       "</div>"
      ],
      "text/plain": [
       "          0         1         2         3         4         5         6  \\\n",
       "0  0.054858  0.086209  0.050739  0.075174  0.062867  0.056765  0.069417   \n",
       "1  0.000000  0.005546  0.013577  0.004720  0.004425  0.000303  0.013996   \n",
       "2  0.022881  0.019733  0.023053  0.029018  0.073814  0.066341  0.061355   \n",
       "3  0.012395  0.048042  0.078544  0.074393  0.117350  0.092151  0.061261   \n",
       "4  0.000000  0.000000  0.000000  0.011483  0.003363  0.015389  0.016686   \n",
       "\n",
       "          7         8         9  ...      5847      5848      5849      5850  \\\n",
       "0  0.079853  0.119192  0.115955  ...  0.027943  0.029310  0.033446  0.018348   \n",
       "1  0.004471  0.014096  0.005484  ...  0.004884  0.000000  0.000000  0.001958   \n",
       "2  0.094834  0.086832  0.071593  ...  0.011049  0.015564  0.000000  0.013121   \n",
       "3  0.083871  0.083997  0.074020  ...  0.000000  0.000000  0.000000  0.000000   \n",
       "4  0.017399  0.004562  0.025001  ...  0.015546  0.000000  0.002288  0.011023   \n",
       "\n",
       "       5851      5852      5853      5854      5855    cluster  \n",
       "0  0.045894  0.068427  0.034809  0.059814  0.045901  Cluster_0  \n",
       "1  0.000778  0.000000  0.000000  0.000000  0.000000  Cluster_0  \n",
       "2  0.000000  0.005243  0.014848  0.007184  0.035813  Cluster_0  \n",
       "3  0.002199  0.030536  0.038095  0.058625  0.021198  Cluster_0  \n",
       "4  0.008362  0.000000  0.001531  0.000000  0.000000  Cluster_0  \n",
       "\n",
       "[5 rows x 5857 columns]"
      ]
     },
     "execution_count": 27,
     "metadata": {},
     "output_type": "execute_result"
    }
   ],
   "source": [
    "ts_df.head()"
   ]
  },
  {
   "cell_type": "code",
   "execution_count": 28,
   "metadata": {},
   "outputs": [
    {
     "data": {
      "text/html": [
       "<div>\n",
       "<style scoped>\n",
       "    .dataframe tbody tr th:only-of-type {\n",
       "        vertical-align: middle;\n",
       "    }\n",
       "\n",
       "    .dataframe tbody tr th {\n",
       "        vertical-align: top;\n",
       "    }\n",
       "\n",
       "    .dataframe thead th {\n",
       "        text-align: right;\n",
       "    }\n",
       "</style>\n",
       "<table border=\"1\" class=\"dataframe\">\n",
       "  <thead>\n",
       "    <tr style=\"text-align: right;\">\n",
       "      <th></th>\n",
       "      <th>1</th>\n",
       "      <th>2</th>\n",
       "      <th>3</th>\n",
       "      <th>4</th>\n",
       "      <th>5</th>\n",
       "      <th>6</th>\n",
       "      <th>cluster</th>\n",
       "    </tr>\n",
       "  </thead>\n",
       "  <tbody>\n",
       "    <tr>\n",
       "      <th>0</th>\n",
       "      <td>2</td>\n",
       "      <td>4</td>\n",
       "      <td>5</td>\n",
       "      <td>1</td>\n",
       "      <td>2</td>\n",
       "      <td>3</td>\n",
       "      <td>Cluster_0</td>\n",
       "    </tr>\n",
       "    <tr>\n",
       "      <th>1</th>\n",
       "      <td>4</td>\n",
       "      <td>8</td>\n",
       "      <td>9</td>\n",
       "      <td>1</td>\n",
       "      <td>1</td>\n",
       "      <td>6</td>\n",
       "      <td>Cluster_1</td>\n",
       "    </tr>\n",
       "    <tr>\n",
       "      <th>2</th>\n",
       "      <td>2</td>\n",
       "      <td>2</td>\n",
       "      <td>9</td>\n",
       "      <td>3</td>\n",
       "      <td>5</td>\n",
       "      <td>4</td>\n",
       "      <td>Cluster_2</td>\n",
       "    </tr>\n",
       "    <tr>\n",
       "      <th>3</th>\n",
       "      <td>3</td>\n",
       "      <td>5</td>\n",
       "      <td>4</td>\n",
       "      <td>2</td>\n",
       "      <td>6</td>\n",
       "      <td>1</td>\n",
       "      <td>Cluster_1</td>\n",
       "    </tr>\n",
       "    <tr>\n",
       "      <th>4</th>\n",
       "      <td>1</td>\n",
       "      <td>2</td>\n",
       "      <td>4</td>\n",
       "      <td>7</td>\n",
       "      <td>5</td>\n",
       "      <td>1</td>\n",
       "      <td>Cluster_0</td>\n",
       "    </tr>\n",
       "  </tbody>\n",
       "</table>\n",
       "</div>"
      ],
      "text/plain": [
       "   1  2  3  4  5  6    cluster\n",
       "0  2  4  5  1  2  3  Cluster_0\n",
       "1  4  8  9  1  1  6  Cluster_1\n",
       "2  2  2  9  3  5  4  Cluster_2\n",
       "3  3  5  4  2  6  1  Cluster_1\n",
       "4  1  2  4  7  5  1  Cluster_0"
      ]
     },
     "execution_count": 28,
     "metadata": {},
     "output_type": "execute_result"
    }
   ],
   "source": [
    "sample_df"
   ]
  },
  {
   "cell_type": "code",
   "execution_count": null,
   "metadata": {},
   "outputs": [],
   "source": [
    "def get_past_distr(train_df, cluster_loc):\n",
    "    train_df_sum = train_df.sum(axis=1)\n",
    "    distr_dict = dict()\n",
    "    num_clusters = len(cluster_loc.keys())\n",
    "    for clust in range(num_clusters):\n",
    "        distr_dict[clust] = list()\n",
    "        for locs in cluster_loc[clust]:\n",
    "            distr_dict[clust].append(train_df_sum[locs])\n",
    "        if sum(distr_dict[clust]) > 0:\n",
    "            distr_dict[clust] = np.divide(distr_dict[clust], sum(distr_dict[clust]))\n",
    "    return distr_dict"
   ]
  },
  {
   "cell_type": "code",
   "execution_count": 29,
   "metadata": {},
   "outputs": [
    {
     "data": {
      "text/plain": [
       "{0: array([0.45945946, 0.54054054]), 1: array([0.58, 0.42]), 2: array([1.])}"
      ]
     },
     "execution_count": 29,
     "metadata": {},
     "output_type": "execute_result"
    }
   ],
   "source": [
    "d = get_past_distr(sample_df, sample_cluster_loc)\n",
    "d"
   ]
  },
  {
   "cell_type": "code",
   "execution_count": 30,
   "metadata": {},
   "outputs": [
    {
     "data": {
      "text/html": [
       "<div>\n",
       "<style scoped>\n",
       "    .dataframe tbody tr th:only-of-type {\n",
       "        vertical-align: middle;\n",
       "    }\n",
       "\n",
       "    .dataframe tbody tr th {\n",
       "        vertical-align: top;\n",
       "    }\n",
       "\n",
       "    .dataframe thead th {\n",
       "        text-align: right;\n",
       "    }\n",
       "</style>\n",
       "<table border=\"1\" class=\"dataframe\">\n",
       "  <thead>\n",
       "    <tr style=\"text-align: right;\">\n",
       "      <th></th>\n",
       "      <th>0</th>\n",
       "      <th>1</th>\n",
       "    </tr>\n",
       "  </thead>\n",
       "  <tbody>\n",
       "    <tr>\n",
       "      <th>0</th>\n",
       "      <td>4.594595</td>\n",
       "      <td>9.189189</td>\n",
       "    </tr>\n",
       "    <tr>\n",
       "      <th>1</th>\n",
       "      <td>58.000000</td>\n",
       "      <td>29.000000</td>\n",
       "    </tr>\n",
       "    <tr>\n",
       "      <th>2</th>\n",
       "      <td>30.000000</td>\n",
       "      <td>10.000000</td>\n",
       "    </tr>\n",
       "    <tr>\n",
       "      <th>3</th>\n",
       "      <td>42.000000</td>\n",
       "      <td>21.000000</td>\n",
       "    </tr>\n",
       "    <tr>\n",
       "      <th>4</th>\n",
       "      <td>5.405405</td>\n",
       "      <td>10.810811</td>\n",
       "    </tr>\n",
       "  </tbody>\n",
       "</table>\n",
       "</div>"
      ],
      "text/plain": [
       "           0          1\n",
       "0   4.594595   9.189189\n",
       "1  58.000000  29.000000\n",
       "2  30.000000  10.000000\n",
       "3  42.000000  21.000000\n",
       "4   5.405405  10.810811"
      ]
     },
     "execution_count": 30,
     "metadata": {},
     "output_type": "execute_result"
    }
   ],
   "source": [
    "assign_demand_to_loc(sample_pred, d, sample_cluster_loc)"
   ]
  },
  {
   "cell_type": "markdown",
   "metadata": {},
   "source": [
    "**Get results**"
   ]
  },
  {
   "cell_type": "code",
   "execution_count": null,
   "metadata": {},
   "outputs": [],
   "source": []
  },
  {
   "cell_type": "code",
   "execution_count": null,
   "metadata": {},
   "outputs": [],
   "source": []
  },
  {
   "cell_type": "code",
   "execution_count": null,
   "metadata": {},
   "outputs": [],
   "source": []
  },
  {
   "cell_type": "code",
   "execution_count": null,
   "metadata": {},
   "outputs": [],
   "source": []
  }
 ],
 "metadata": {
  "kernelspec": {
   "display_name": "Python 3",
   "language": "python",
   "name": "python3"
  },
  "language_info": {
   "codemirror_mode": {
    "name": "ipython",
    "version": 3
   },
   "file_extension": ".py",
   "mimetype": "text/x-python",
   "name": "python",
   "nbconvert_exporter": "python",
   "pygments_lexer": "ipython3",
   "version": "3.7.3"
  }
 },
 "nbformat": 4,
 "nbformat_minor": 2
}
